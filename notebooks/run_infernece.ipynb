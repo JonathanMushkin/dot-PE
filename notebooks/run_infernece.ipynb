{
 "cells": [
  {
   "cell_type": "code",
   "execution_count": 2,
   "metadata": {},
   "outputs": [
    {
     "name": "stderr",
     "output_type": "stream",
     "text": [
      "/Users/jonatahm/miniconda3/envs/gwias/lib/python3.11/site-packages/gwpy/time/__init__.py:36: UserWarning: Wswiglal-redir-stdio:\n",
      "\n",
      "SWIGLAL standard output/error redirection is enabled in IPython.\n",
      "This may lead to performance penalties. To disable locally, use:\n",
      "\n",
      "with lal.no_swig_redirect_standard_output_error():\n",
      "    ...\n",
      "\n",
      "To disable globally, use:\n",
      "\n",
      "lal.swig_redirect_standard_output_error(False)\n",
      "\n",
      "Note however that this will likely lead to error messages from\n",
      "LAL functions being either misdirected or lost when called from\n",
      "Jupyter notebooks.\n",
      "\n",
      "To suppress this warning, use:\n",
      "\n",
      "import warnings\n",
      "warnings.filterwarnings(\"ignore\", \"Wswiglal-redir-stdio\")\n",
      "import lal\n",
      "\n",
      "  from lal import LIGOTimeGPS\n"
     ]
    }
   ],
   "source": [
    "import sys\n",
    "from pathlib import Path\n",
    "import pandas as pd\n",
    "\n",
    "sys.path.insert(0, str(Path.cwd().parent))\n",
    "\n",
    "import numpy as np\n",
    "from cogwheel import data, gw_utils, gw_plotting, utils\n",
    "from dot_pe import inference\n"
   ]
  },
  {
   "cell_type": "markdown",
   "metadata": {},
   "source": [
    "# Generate synthetic data for inference"
   ]
  },
  {
   "cell_type": "code",
   "execution_count": 12,
   "metadata": {},
   "outputs": [
    {
     "name": "stdout",
     "output_type": "stream",
     "text": [
      "[13.05668831 32.44716761  1.04042227]\n",
      "46.544278189095614\n"
     ]
    }
   ],
   "source": [
    "# create data\n",
    "event_data_kwargs = {\n",
    "    \"detector_names\": \"HLV\",\n",
    "    \"duration\": 120.0,\n",
    "    \"asd_funcs\": [\"asd_H_O3\", \"asd_L_O3\", \"asd_V_O3\"],\n",
    "    \"tgps\": 0.0,\n",
    "    \"fmax\": 1600.0,\n",
    "}\n",
    "\n",
    "\n",
    "event_data = data.EventData.gaussian_noise(\n",
    "    eventname=\"example_eventdata\", **event_data_kwargs, seed=20250311\n",
    ")\n",
    "\n",
    "mchirp = 75\n",
    "q = 1 / 2\n",
    "\n",
    "m1, m2 = gw_utils.mchirpeta_to_m1m2(mchirp, gw_utils.q_to_eta(q))\n",
    "injection_par_dic = dict(\n",
    "    m1=m1,\n",
    "    m2=m2,\n",
    "    ra=0.5,\n",
    "    dec=0.5,\n",
    "    iota=np.pi * 1 / 3,\n",
    "    psi=1.0,\n",
    "    phi_ref=12.0,\n",
    "    s1z=0.6,\n",
    "    s2z=0.6,\n",
    "    s1x_n=0.1,\n",
    "    s1y_n=0.2,\n",
    "    s2x_n=0.3,\n",
    "    s2y_n=-0.2,\n",
    "    l1=0.0,\n",
    "    l2=0.0,\n",
    "    tgps=0.0,\n",
    "    f_ref=50.0,\n",
    "    d_luminosity=5e3,\n",
    "    t_geocenter=0.0,\n",
    ")\n",
    "\n",
    "event_data.inject_signal(injection_par_dic, \"IMRPhenomXODE\")\n",
    "\n",
    "print(event_data.injection[\"d_h\"] - event_data.injection[\"h_h\"] / 2)\n",
    "print(sum(event_data.injection[\"d_h\"] - event_data.injection[\"h_h\"] / 2))"
   ]
  },
  {
   "cell_type": "code",
   "execution_count": 11,
   "metadata": {},
   "outputs": [
    {
     "ename": "FileNotFoundError",
     "evalue": "[Errno 2] No such file or directory: 'example_eventdata.npz'",
     "output_type": "error",
     "traceback": [
      "\u001b[31m---------------------------------------------------------------------------\u001b[39m",
      "\u001b[31mFileNotFoundError\u001b[39m                         Traceback (most recent call last)",
      "\u001b[36mCell\u001b[39m\u001b[36m \u001b[39m\u001b[32mIn[11]\u001b[39m\u001b[32m, line 2\u001b[39m\n\u001b[32m      1\u001b[39m \u001b[38;5;66;03m# Alternatively, load data form file\u001b[39;00m\n\u001b[32m----> \u001b[39m\u001b[32m2\u001b[39m event_data = \u001b[43mdata\u001b[49m\u001b[43m.\u001b[49m\u001b[43mEventData\u001b[49m\u001b[43m.\u001b[49m\u001b[43mfrom_npz\u001b[49m\u001b[43m(\u001b[49m\u001b[43mfilename\u001b[49m\u001b[43m=\u001b[49m\u001b[33;43m\"\u001b[39;49m\u001b[33;43mexample_eventdata.npz\u001b[39;49m\u001b[33;43m\"\u001b[39;49m\u001b[43m)\u001b[49m\n",
      "\u001b[36mFile \u001b[39m\u001b[32m~/miniconda3/envs/gwias/lib/python3.11/site-packages/cogwheel/data.py:549\u001b[39m, in \u001b[36mEventData.from_npz\u001b[39m\u001b[34m(cls, eventname, filename)\u001b[39m\n\u001b[32m    547\u001b[39m         \u001b[38;5;28;01mraise\u001b[39;00m \u001b[38;5;167;01mValueError\u001b[39;00m(\u001b[33m'\u001b[39m\u001b[33mPass exactly one of `eventname`, `filename`\u001b[39m\u001b[33m'\u001b[39m)\n\u001b[32m    548\u001b[39m     filename = \u001b[38;5;28mcls\u001b[39m.get_filename(eventname)\n\u001b[32m--> \u001b[39m\u001b[32m549\u001b[39m dic = {key: val[()] \u001b[38;5;28;01mfor\u001b[39;00m key, val \u001b[38;5;129;01min\u001b[39;00m \u001b[43mnp\u001b[49m\u001b[43m.\u001b[49m\u001b[43mload\u001b[49m\u001b[43m(\u001b[49m\u001b[43mfilename\u001b[49m\u001b[43m)\u001b[49m.items()}\n\u001b[32m    551\u001b[39m \u001b[38;5;28;01mif\u001b[39;00m \u001b[33m'\u001b[39m\u001b[33minjection\u001b[39m\u001b[33m'\u001b[39m \u001b[38;5;129;01min\u001b[39;00m dic:\n\u001b[32m    552\u001b[39m     dic[\u001b[33m'\u001b[39m\u001b[33minjection\u001b[39m\u001b[33m'\u001b[39m] = json.loads(dic[\u001b[33m'\u001b[39m\u001b[33minjection\u001b[39m\u001b[33m'\u001b[39m])\n",
      "\u001b[36mFile \u001b[39m\u001b[32m~/miniconda3/envs/gwias/lib/python3.11/site-packages/numpy/lib/_npyio_impl.py:451\u001b[39m, in \u001b[36mload\u001b[39m\u001b[34m(file, mmap_mode, allow_pickle, fix_imports, encoding, max_header_size)\u001b[39m\n\u001b[32m    449\u001b[39m     own_fid = \u001b[38;5;28;01mFalse\u001b[39;00m\n\u001b[32m    450\u001b[39m \u001b[38;5;28;01melse\u001b[39;00m:\n\u001b[32m--> \u001b[39m\u001b[32m451\u001b[39m     fid = stack.enter_context(\u001b[38;5;28mopen\u001b[39m(os.fspath(file), \u001b[33m\"\u001b[39m\u001b[33mrb\u001b[39m\u001b[33m\"\u001b[39m))\n\u001b[32m    452\u001b[39m     own_fid = \u001b[38;5;28;01mTrue\u001b[39;00m\n\u001b[32m    454\u001b[39m \u001b[38;5;66;03m# Code to distinguish from NumPy binary files and pickles.\u001b[39;00m\n",
      "\u001b[31mFileNotFoundError\u001b[39m: [Errno 2] No such file or directory: 'example_eventdata.npz'"
     ]
    }
   ],
   "source": [
    "# Alternatively, load data form file\n",
    "event_data = data.EventData.from_npz(filename=\"example_eventdata.npz\")"
   ]
  },
  {
   "cell_type": "markdown",
   "metadata": {},
   "source": [
    "Set bank folder, in the relevant mass range.\n",
    "\n",
    "See how to create mass ranges in create_sample_bank.ipynb\n"
   ]
  },
  {
   "cell_type": "code",
   "execution_count": null,
   "metadata": {},
   "outputs": [],
   "source": [
    "bank_folder = \"test_bank\"\n",
    "bank_folder = Path(bank_folder)\n",
    "event_dir = event_data.eventname"
   ]
  },
  {
   "cell_type": "code",
   "execution_count": null,
   "metadata": {},
   "outputs": [],
   "source": [
    "rundir = inference.run(\n",
    "    event_dir=event_dir,\n",
    "    event=event_data,\n",
    "    bank_folder=bank_folder,\n",
    "    n_int=2**14,\n",
    "    n_ext=128,\n",
    "    n_phi=32,\n",
    "    n_t=64,\n",
    "    i_int_start=0,\n",
    "    blocksize=2**10,\n",
    "    single_detector_blocksize=2**10,\n",
    "    seed=42,\n",
    "    size_limit=10**6,\n",
    "    draw_subset=True,\n",
    "    n_draws=None,\n",
    ")"
   ]
  },
  {
   "cell_type": "code",
   "execution_count": null,
   "metadata": {},
   "outputs": [],
   "source": [
    "rundirs = sorted(\n",
    "    Path(\"example_eventdata\").glob(\"run_*\"),\n",
    "    key=lambda x: int(x.name.split(\"_\")[-1]),\n",
    ")\n",
    "\n",
    "rundir = rundirs[-1]\n",
    "summary_results = utils.read_json(rundirs[-1] / \"summary_results.json\")\n",
    "\n",
    "for k, v in summary_results.items():\n",
    "    print(k, v)\n",
    "    "
   ]
  },
  {
   "cell_type": "code",
   "execution_count": null,
   "metadata": {},
   "outputs": [],
   "source": [
    "samples = pd.read_feather(rundirs[-1] / \"samples.feather\")\n",
    "params = [\"mchirp\", \"lnq\", \"chieff\", \"cumchidiff\", \"costheta_jn\", \"lnl\"]\n",
    "gw_plotting.CornerPlot(samples, params=params, smooth=1).plot()"
   ]
  },
  {
   "cell_type": "code",
   "execution_count": null,
   "metadata": {},
   "outputs": [],
   "source": [
    "samples"
   ]
  }
 ],
 "metadata": {
  "kernelspec": {
   "display_name": "gwias",
   "language": "python",
   "name": "python3"
  },
  "language_info": {
   "codemirror_mode": {
    "name": "ipython",
    "version": 3
   },
   "file_extension": ".py",
   "mimetype": "text/x-python",
   "name": "python",
   "nbconvert_exporter": "python",
   "pygments_lexer": "ipython3",
   "version": "3.11.11"
  }
 },
 "nbformat": 4,
 "nbformat_minor": 2
}
