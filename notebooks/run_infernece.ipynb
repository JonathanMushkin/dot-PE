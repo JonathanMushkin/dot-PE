{
 "cells": [
  {
   "cell_type": "code",
   "execution_count": 3,
   "metadata": {},
   "outputs": [],
   "source": [
    "import sys\n",
    "from pathlib import Path\n",
    "import pandas as pd\n",
    "\n",
    "sys.path.insert(0, str(Path.cwd().parent))\n",
    "\n",
    "import numpy as np\n",
    "from cogwheel import data, gw_utils, gw_plotting, utils\n",
    "from dot_pe import inference\n"
   ]
  },
  {
   "cell_type": "markdown",
   "metadata": {},
   "source": [
    "# Generate synthetic data for inference"
   ]
  },
  {
   "cell_type": "code",
   "execution_count": 5,
   "metadata": {},
   "outputs": [
    {
     "name": "stdout",
     "output_type": "stream",
     "text": [
      "[189.58784798 389.95858028  26.19967493]\n",
      "605.7461031798991\n"
     ]
    }
   ],
   "source": [
    "# create data\n",
    "event_data_kwargs = {\n",
    "    \"detector_names\": \"HLV\",\n",
    "    \"duration\": 120.0,\n",
    "    \"asd_funcs\": [\"asd_H_O3\", \"asd_L_O3\", \"asd_V_O3\"],\n",
    "    \"tgps\": 0.0,\n",
    "    \"fmax\": 1600.0,\n",
    "}\n",
    "\n",
    "\n",
    "event_data = data.EventData.gaussian_noise(\n",
    "    eventname=\"example_eventdata\", **event_data_kwargs, seed=20250311\n",
    ")\n",
    "\n",
    "mchirp = 75\n",
    "q = 1 / 2\n",
    "\n",
    "m1, m2 = gw_utils.mchirpeta_to_m1m2(mchirp, gw_utils.q_to_eta(q))\n",
    "injection_par_dic = dict(\n",
    "    m1=m1,\n",
    "    m2=m2,\n",
    "    ra=0,\n",
    "    dec=0,\n",
    "    iota=np.pi * 7 / 16,\n",
    "    psi=1.0,\n",
    "    phi_ref=12.0,\n",
    "    s1z=0.6,\n",
    "    s2z=0.6,\n",
    "    s1x_n=0.1,\n",
    "    s1y_n=0.2,\n",
    "    s2x_n=0.3,\n",
    "    s2y_n=-0.2,\n",
    "    l1=0.0,\n",
    "    l2=0.0,\n",
    "    tgps=0.0,\n",
    "    f_ref=50.0,\n",
    "    d_luminosity=1e3,\n",
    "    t_geocenter=0.0,\n",
    ")\n",
    "\n",
    "event_data.inject_signal(injection_par_dic, \"IMRPhenomXODE\")\n",
    "\n",
    "print(event_data.injection[\"d_h\"] - event_data.injection[\"h_h\"] / 2)\n",
    "print(sum(event_data.injection[\"d_h\"] - event_data.injection[\"h_h\"] / 2))"
   ]
  },
  {
   "cell_type": "code",
   "execution_count": null,
   "metadata": {},
   "outputs": [],
   "source": [
    "# Alternatively, load data form file\n",
    "event_data = data.EventData.from_npz(filename=\"example_eventdata.npz\")"
   ]
  },
  {
   "cell_type": "markdown",
   "metadata": {},
   "source": [
    "Set bank folder, in the relevant mass range.\n",
    "\n",
    "See how to create mass ranges in create_sample_bank.ipynb\n"
   ]
  },
  {
   "cell_type": "code",
   "execution_count": 6,
   "metadata": {},
   "outputs": [],
   "source": [
    "bank_folder = \"/Users/jonatahm/Work/GW/magic_integral/banks/bank_mchirp_50\"\n",
    "bank_folder = Path(bank_folder)\n",
    "event_dir = event_data.eventname"
   ]
  },
  {
   "cell_type": "code",
   "execution_count": null,
   "metadata": {},
   "outputs": [
    {
     "ename": "TypeError",
     "evalue": "run() got an unexpected keyword argument 'use_reps'",
     "output_type": "error",
     "traceback": [
      "\u001b[31m---------------------------------------------------------------------------\u001b[39m",
      "\u001b[31mTypeError\u001b[39m                                 Traceback (most recent call last)",
      "\u001b[36mCell\u001b[39m\u001b[36m \u001b[39m\u001b[32mIn[7]\u001b[39m\u001b[32m, line 1\u001b[39m\n\u001b[32m----> \u001b[39m\u001b[32m1\u001b[39m rundir = \u001b[43minference\u001b[49m\u001b[43m.\u001b[49m\u001b[43mrun\u001b[49m\u001b[43m(\u001b[49m\n\u001b[32m      2\u001b[39m \u001b[43m    \u001b[49m\u001b[43mevent_dir\u001b[49m\u001b[43m=\u001b[49m\u001b[43mevent_dir\u001b[49m\u001b[43m,\u001b[49m\n\u001b[32m      3\u001b[39m \u001b[43m    \u001b[49m\u001b[43mevent\u001b[49m\u001b[43m=\u001b[49m\u001b[43mevent_data\u001b[49m\u001b[43m,\u001b[49m\n\u001b[32m      4\u001b[39m \u001b[43m    \u001b[49m\u001b[43mbank_folder\u001b[49m\u001b[43m=\u001b[49m\u001b[43mbank_folder\u001b[49m\u001b[43m,\u001b[49m\n\u001b[32m      5\u001b[39m \u001b[43m    \u001b[49m\u001b[43mn_int\u001b[49m\u001b[43m=\u001b[49m\u001b[32;43m2\u001b[39;49m\u001b[43m*\u001b[49m\u001b[43m*\u001b[49m\u001b[32;43m14\u001b[39;49m\u001b[43m,\u001b[49m\n\u001b[32m      6\u001b[39m \u001b[43m    \u001b[49m\u001b[43mn_ext\u001b[49m\u001b[43m=\u001b[49m\u001b[32;43m128\u001b[39;49m\u001b[43m,\u001b[49m\n\u001b[32m      7\u001b[39m \u001b[43m    \u001b[49m\u001b[43mn_phi\u001b[49m\u001b[43m=\u001b[49m\u001b[32;43m32\u001b[39;49m\u001b[43m,\u001b[49m\n\u001b[32m      8\u001b[39m \u001b[43m    \u001b[49m\u001b[43mn_t\u001b[49m\u001b[43m=\u001b[49m\u001b[32;43m64\u001b[39;49m\u001b[43m,\u001b[49m\n\u001b[32m      9\u001b[39m \u001b[43m    \u001b[49m\u001b[43mi_int_start\u001b[49m\u001b[43m=\u001b[49m\u001b[32;43m0\u001b[39;49m\u001b[43m,\u001b[49m\n\u001b[32m     10\u001b[39m \u001b[43m    \u001b[49m\u001b[43mblocksize\u001b[49m\u001b[43m=\u001b[49m\u001b[32;43m2\u001b[39;49m\u001b[43m*\u001b[49m\u001b[43m*\u001b[49m\u001b[32;43m10\u001b[39;49m\u001b[43m,\u001b[49m\n\u001b[32m     11\u001b[39m \u001b[43m    \u001b[49m\u001b[43msingle_detector_blocksize\u001b[49m\u001b[43m=\u001b[49m\u001b[32;43m2\u001b[39;49m\u001b[43m*\u001b[49m\u001b[43m*\u001b[49m\u001b[32;43m10\u001b[39;49m\u001b[43m,\u001b[49m\n\u001b[32m     12\u001b[39m \u001b[43m    \u001b[49m\u001b[43mseed\u001b[49m\u001b[43m=\u001b[49m\u001b[32;43m42\u001b[39;49m\u001b[43m,\u001b[49m\n\u001b[32m     13\u001b[39m \u001b[43m    \u001b[49m\u001b[43msize_limit\u001b[49m\u001b[43m=\u001b[49m\u001b[32;43m10\u001b[39;49m\u001b[43m*\u001b[49m\u001b[43m*\u001b[49m\u001b[32;43m6\u001b[39;49m\u001b[43m,\u001b[49m\n\u001b[32m     14\u001b[39m \u001b[43m    \u001b[49m\u001b[43mdraw_subset\u001b[49m\u001b[43m=\u001b[49m\u001b[38;5;28;43;01mTrue\u001b[39;49;00m\u001b[43m,\u001b[49m\n\u001b[32m     15\u001b[39m \u001b[43m    \u001b[49m\u001b[43mn_draws\u001b[49m\u001b[43m=\u001b[49m\u001b[38;5;28;43;01mNone\u001b[39;49;00m\u001b[43m,\u001b[49m\n\u001b[32m     16\u001b[39m \u001b[43m    \u001b[49m\u001b[43muse_reps\u001b[49m\u001b[43m=\u001b[49m\u001b[38;5;28;43;01mFalse\u001b[39;49;00m\u001b[43m,\u001b[49m\n\u001b[32m     17\u001b[39m \u001b[43m)\u001b[49m\n",
      "\u001b[31mTypeError\u001b[39m: run() got an unexpected keyword argument 'use_reps'"
     ]
    }
   ],
   "source": [
    "rundir = inference.run(\n",
    "    event_dir=event_dir,\n",
    "    event=event_data,\n",
    "    bank_folder=bank_folder,\n",
    "    n_int=2**14,\n",
    "    n_ext=128,\n",
    "    n_phi=32,\n",
    "    n_t=64,\n",
    "    i_int_start=0,\n",
    "    blocksize=2**10,\n",
    "    single_detector_blocksize=2**10,\n",
    "    seed=42,\n",
    "    size_limit=10**6,\n",
    "    draw_subset=True,\n",
    "    n_draws=None,\n",
    ")"
   ]
  },
  {
   "cell_type": "code",
   "execution_count": null,
   "metadata": {},
   "outputs": [],
   "source": [
    "rundirs = sorted(\n",
    "    Path(\"example_eventdata\").glob(\"run_*\"),\n",
    "    key=lambda x: int(x.name.split(\"_\")[-1]),\n",
    ")\n",
    "\n",
    "rundir = rundirs[-1]\n",
    "summary_results = utils.read_json(rundirs[-1] / \"summary_results.json\")\n",
    "\n",
    "for k, v in summary_results.items():\n",
    "    print(k, v)\n",
    "    "
   ]
  },
  {
   "cell_type": "code",
   "execution_count": null,
   "metadata": {},
   "outputs": [],
   "source": [
    "samples = pd.read_feather(rundirs[-1] / \"samples.feather\")\n",
    "params = [\"mchirp\", \"lnq\", \"chieff\", \"cumchidiff\", \"costheta_jn\", \"lnl\"]\n",
    "gw_plotting.CornerPlot(samples, params=params, smooth=1, tail_probability=1e-2).plot()"
   ]
  }
 ],
 "metadata": {
  "kernelspec": {
   "display_name": "gwias",
   "language": "python",
   "name": "python3"
  },
  "language_info": {
   "codemirror_mode": {
    "name": "ipython",
    "version": 3
   },
   "file_extension": ".py",
   "mimetype": "text/x-python",
   "name": "python",
   "nbconvert_exporter": "python",
   "pygments_lexer": "ipython3",
   "version": "3.11.11"
  }
 },
 "nbformat": 4,
 "nbformat_minor": 2
}
