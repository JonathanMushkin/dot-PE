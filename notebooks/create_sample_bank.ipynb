{
 "cells": [
  {
   "cell_type": "code",
   "execution_count": null,
   "metadata": {},
   "outputs": [],
   "source": [
    "import sys\n",
    "from pathlib import Path\n",
    "import pandas as pd\n",
    "from cogwheel import gw_plotting, gw_utils, utils\n",
    "sys.path.insert(0, str(Path.cwd().parent))\n",
    "from dot_pe import sample_banks, config"
   ]
  },
  {
   "cell_type": "code",
   "execution_count": null,
   "metadata": {},
   "outputs": [],
   "source": [
    "bank_dir = Path(\"test_bank\")\n",
    "sample_banks.main(\n",
    "    bank_size=2**12,\n",
    "    q_min=1 / 6,\n",
    "    m_min=50,\n",
    "    m_max=100,\n",
    "    inc_faceon_factor=1.0,\n",
    "    f_ref=50.0,\n",
    "    fbin=config.DEFAULT_FBIN,\n",
    "    n_pool=4,\n",
    "    blocksize=1024,\n",
    "    approximant=\"IMRPhenomXODE\",\n",
    "    bank_dir=bank_dir,\n",
    ")"
   ]
  },
  {
   "cell_type": "code",
   "execution_count": null,
   "metadata": {},
   "outputs": [],
   "source": [
    "samples = pd.read_feather(bank_dir / \"intrinsic_sample_bank.feather\")\n",
    "samples[\"mchirp\"] = gw_utils.m1m2_to_mchirp(samples[\"m1\"], samples[\"m2\"])\n",
    "samples[\"chieff\"] = gw_utils.chieff(*samples[[\"m1\", \"m2\", \"s1z\", \"s2z\"]].values.T)\n",
    "\n",
    "weighted_samples = samples.copy()\n",
    "weighted_samples[\"weights\"] = utils.exp_normalize(\n",
    "    weighted_samples[\"log_prior_weights\"].values\n",
    ")\n",
    "samples[\"weights\"] = 1.0\n",
    "gw_plotting.MultiCornerPlot(\n",
    "    [samples, weighted_samples],\n",
    "    smooth=1,\n",
    "    params=[c for c in samples.columns if \"weights\" not in c],\n",
    "    labels=[\"Unweighted\", \"Weighted\"],\n",
    ").plot()"
   ]
  }
 ],
 "metadata": {
  "kernelspec": {
   "display_name": "dot-pe",
   "language": "python",
   "name": "python3"
  },
  "language_info": {
   "codemirror_mode": {
    "name": "ipython",
    "version": 3
   },
   "file_extension": ".py",
   "mimetype": "text/x-python",
   "name": "python",
   "nbconvert_exporter": "python",
   "pygments_lexer": "ipython3",
   "version": "3.13.5"
  }
 },
 "nbformat": 4,
 "nbformat_minor": 2
}
