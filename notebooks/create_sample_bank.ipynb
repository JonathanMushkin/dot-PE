{
 "cells": [
  {
   "cell_type": "code",
   "execution_count": null,
   "metadata": {},
   "outputs": [],
   "source": [
    "import sys\n",
    "from pathlib import Path\n",
    "import json\n",
    "import time\n",
    "import matplotlib.pyplot as plt\n",
    "# Add parent directory to path to access dot_pe modules\n",
    "sys.path.insert(0, str(Path.cwd().parent))\n",
    "import numpy as np\n",
    "from cogwheel import gw_utils, utils\n",
    "\n",
    "# Import modules from the dot_pe package\n",
    "from dot_pe import sample_banks, config, waveform_banks"
   ]
  },
  {
   "cell_type": "code",
   "execution_count": null,
   "metadata": {},
   "outputs": [],
   "source": [
    "# select parameters for bank\n",
    "n_intrinsic_samples = 2**16\n",
    "f_ref = 50.0\n",
    "q_min = 1/6\n",
    "mchirp_min = 50\n",
    "mchirp_max = 100\n",
    "bank_name = 'test_bank'\n",
    "samples_bank_folder = Path('.')/ 'test_bank'\n",
    "dataframe_path = samples_bank_folder / 'intrinsic_sample_bank.feather'\n",
    "isg = sample_banks.IntrinsicSamplesGenerator()\n",
    "# create folder if it does not exist\n",
    "if samples_bank_folder.exists() is False:\n",
    "    samples_bank_folder.mkdir()"
   ]
  },
  {
   "cell_type": "code",
   "execution_count": null,
   "metadata": {},
   "outputs": [],
   "source": [
    "start_time = time.time()\n",
    "samples = isg.draw_intrinsic_samples_uniform_in_lnmchrip_lnq(\n",
    "    n_intrinsic_samples,\n",
    "    q_min,\n",
    "    mchirp_min,\n",
    "    mchirp_max,\n",
    "    f_ref=f_ref,\n",
    "    inc_faceon_factor=1,\n",
    ")\n",
    "samples.to_feather(dataframe_path)\n",
    "\n",
    "end_time = time.time()\n",
    "message = (\n",
    "    f\"{time.strftime('%Y-%m-%d %H:%M:%S', time.localtime(end_time))} :\"\n",
    "    + f\" func finished in {end_time - start_time:.2f} seconds.\"\n",
    ")\n",
    "print(message)"
   ]
  },
  {
   "cell_type": "code",
   "execution_count": null,
   "metadata": {},
   "outputs": [],
   "source": [
    "fig, axs = plt.subplots(1, 3, figsize=(12, 4))\n",
    "axs[0].scatter(samples[\"m1\"], samples[\"m2\"], s=1, alpha=0.1)\n",
    "axs[0].set_xlabel(r\"$m_1$\")\n",
    "axs[0].set_ylabel(r\"$m_2$\")\n",
    "\n",
    "\n",
    "lnmchirp = np.log(gw_utils.m1m2_to_mchirp(samples[\"m1\"], samples[\"m2\"]))\n",
    "lnq = np.log(samples[\"m2\"] / samples[\"m1\"])\n",
    "axs[1].scatter(lnmchirp, lnq, s=1, alpha=0.1)\n",
    "axs[1].set_xlabel(r\"$\\ln \\mathcal{M}_c$\")\n",
    "axs[1].set_ylabel(r\"$\\ln q$\")\n",
    "\n",
    "_ = axs[2].hist(\n",
    "    samples[\"iota\"],\n",
    "    histtype=\"step\",\n",
    "    label=\"un-weighted\"\n",
    ")\n",
    "_ = axs[2].hist(\n",
    "    samples[\"iota\"],\n",
    "    histtype=\"step\",\n",
    "    weights=np.exp(samples[\"log_prior_weights\"]),\n",
    "    label=\"weighted\"\n",
    ")\n",
    "axs[2].legend()\n",
    "fig.tight_layout()"
   ]
  },
  {
   "cell_type": "code",
   "execution_count": null,
   "metadata": {},
   "outputs": [],
   "source": [
    "# create config file\n",
    "bank_config_path = samples_bank_folder / \"bank_config.json\"\n",
    "with open(bank_config_path, \"w\", encoding=\"utf-8\") as fp:\n",
    "    config_dict = {\n",
    "        \"fbin\": config.DEFAULT_FBIN,\n",
    "        \"f_ref\": f_ref,\n",
    "        \"mchirp_min\": mchirp_min,\n",
    "        \"mchirp_max\": mchirp_max,\n",
    "    }\n",
    "    json.dump(config_dict, fp, cls=utils.NumpyEncoder)"
   ]
  },
  {
   "cell_type": "code",
   "execution_count": null,
   "metadata": {},
   "outputs": [],
   "source": [
    "\n",
    "waveform_banks.create_waveform_bank_from_samples(\n",
    "    samples_path=dataframe_path,\n",
    "    bank_config_path=bank_config_path,\n",
    "    waveform_dir=dataframe_path.parent / \"waveforms\",\n",
    "    n_blocks=None,\n",
    "    n_pool=1,\n",
    "    blocksize=4096,\n",
    ")\n"
   ]
  }
 ],
 "metadata": {
  "kernelspec": {
   "display_name": "dot-pe",
   "language": "python",
   "name": "python3"
  },
  "language_info": {
   "codemirror_mode": {
    "name": "ipython",
    "version": 3
   },
   "file_extension": ".py",
   "mimetype": "text/x-python",
   "name": "python",
   "nbconvert_exporter": "python",
   "pygments_lexer": "ipython3",
   "version": "3.13.5"
  }
 },
 "nbformat": 4,
 "nbformat_minor": 2
}
