{
 "cells": [
  {
   "cell_type": "code",
   "execution_count": null,
   "metadata": {},
   "outputs": [],
   "source": [
    "import sys\n",
    "from pathlib import Path\n",
    "import warnings\n",
    "import json\n",
    "import time\n",
    "import matplotlib.pyplot as plt\n",
    "\n",
    "# Add parent directory to path to access dot_pe modules\n",
    "sys.path.insert(0, str(Path.cwd().parent))\n",
    "\n",
    "warnings.filterwarnings(\"ignore\", \"Wswiglal-redir-stdio\")\n",
    "import lal\n",
    "\n",
    "lal.swig_redirect_standard_output_error(False)\n",
    "\n",
    "import numpy as np\n",
    "from cogwheel import gw_utils, utils\n",
    "\n",
    "# Import modules from the dot_pe package\n",
    "from dot_pe import sample_generation, config, waveform_creation"
   ]
  },
  {
   "cell_type": "code",
   "execution_count": null,
   "metadata": {},
   "outputs": [],
   "source": [
    "# select parameters for bank\n",
    "n_intrinsic_samples = 2**10\n",
    "\n",
    "q_min = 1/6\n",
    "mchirp_min = 5\n",
    "mchirp_max = 5.1\n",
    "bank_name = 'test_bank'\n",
    "# samples_bank_folder = Path(f'/BIGDATA/jonatahm/evidence_calculator/bank_mchirp_{mchirp_min}_{mchirp_max}')\n",
    "# samples_bank_folder = Path(f'/BIGDATA/jonatahm/evidence_calculator/{bank_name}')\n",
    "samples_bank_folder = Path('.')/ 'test_bank'\n",
    "dataframe_path = samples_bank_folder / 'intrinsic_sample_bank.feather'\n",
    "\n",
    "isg = sample_generation.IntrinsicSamplesGenerator()\n",
    "# create folder if it does not exist\n",
    "if samples_bank_folder.exists() is False:\n",
    "    samples_bank_folder.mkdir()"
   ]
  },
  {
   "cell_type": "code",
   "execution_count": null,
   "metadata": {},
   "outputs": [],
   "source": [
    "start_time = time.time()\n",
    "samples = isg.draw_intrinsic_samples_uniform_in_lnmchrip_lnq(\n",
    "    n_intrinsic_samples, q_min, mchirp_min, mchirp_max,f_ref = 50.0)\n",
    "samples.to_feather(dataframe_path)\n",
    "\n",
    "end_time = time.time()\n",
    "message = (f\"{time.strftime('%Y-%m-%d %H:%M:%S', time.localtime(end_time))} :\"\n",
    "           +f\" func finished in {end_time - start_time:.2f} seconds.\")\n",
    "print(message)"
   ]
  },
  {
   "cell_type": "code",
   "execution_count": null,
   "metadata": {},
   "outputs": [],
   "source": [
    "fig, axs = plt.subplots(1, 2, figsize=(10, 5))\n",
    "axs[0].scatter(samples['m1'], samples['m2'], s=1, alpha=0.5)\n",
    "mchirp =gw_utils.m1m2_to_mchirp(samples['m1'], samples['m2'])\n",
    "q = np.log(samples['m1']/samples['m2'])\n",
    "axs[1].scatter(np.log(mchirp), q, s=1, alpha=0.5)"
   ]
  },
  {
   "cell_type": "code",
   "execution_count": null,
   "metadata": {},
   "outputs": [],
   "source": [
    "# create config file\n",
    "\n",
    "bank_config_path = samples_bank_folder / \"bank_config.json\"\n",
    "with open(bank_config_path, \"w\", encoding=\"utf-8\") as fp:\n",
    "    config_dict = {\"fbin\": config.DEFAULT_FBIN, \"f_ref\": 50.0}\n",
    "    json.dump(config_dict, fp, cls=utils.NumpyEncoder)\n",
    "\n",
    "waveform_creation.create_waveform_bank_from_samples(\n",
    "    samples_path=dataframe_path,\n",
    "    bank_config_path=bank_config_path,\n",
    "    waveform_dir=dataframe_path.parent / \"waveforms\",\n",
    "    n_blocks=None,\n",
    "    n_pool=1,\n",
    "    blocksize=64,\n",
    ")\n"
   ]
  }
 ],
 "metadata": {
  "kernelspec": {
   "display_name": "gwias",
   "language": "python",
   "name": "python3"
  },
  "language_info": {
   "codemirror_mode": {
    "name": "ipython",
    "version": 3
   },
   "file_extension": ".py",
   "mimetype": "text/x-python",
   "name": "python",
   "nbconvert_exporter": "python",
   "pygments_lexer": "ipython3",
   "version": "3.11.11"
  }
 },
 "nbformat": 4,
 "nbformat_minor": 2
}
